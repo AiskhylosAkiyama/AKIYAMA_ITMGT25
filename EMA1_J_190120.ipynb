{
 "cells": [
  {
   "cell_type": "markdown",
   "metadata": {},
   "source": [
    "# 1. Turning Tables (15pts) "
   ]
  },
  {
   "cell_type": "code",
   "execution_count": 4,
   "metadata": {},
   "outputs": [
    {
     "name": "stdout",
     "output_type": "stream",
     "text": [
      "Enter number of rows: 5\n",
      "<table>\n",
      "<tr class=\"lightyellowrow\"><td>1</td><td>1</td></tr>\n",
      "<tr class=\"whiterow\"><td>2</td><td>4</td></tr>\n",
      "<tr class=\"lightyellowrow\"><td>3</td><td>9</td></tr>\n",
      "<tr class=\"whiterow\"><td>4</td><td>16</td></tr>\n",
      "<tr class=\"lightyellowrow\"><td>5</td><td>25</td></tr>\n",
      "</table>\n"
     ]
    }
   ],
   "source": [
    "rows = int(input(\"Enter number of rows: \"))\n",
    "\n",
    "print(\"<table>\")\n",
    "\n",
    "for i in range(1, rows+1):\n",
    "    if (i%2==1):\n",
    "        print('<tr class=\"lightyellowrow\"><td>', i, \"</td><td>\", i**2, \"</td></tr>\", sep=\"\")\n",
    "    else:\n",
    "        print('<tr class=\"whiterow\"><td>', i, \"</td><td>\", i**2, \"</td></tr>\", sep=\"\")\n",
    "\n",
    "print(\"</table>\")"
   ]
  },
  {
   "cell_type": "markdown",
   "metadata": {},
   "source": [
    "# 2. Dating Norms (30 pts)"
   ]
  },
  {
   "cell_type": "code",
   "execution_count": 1,
   "metadata": {},
   "outputs": [
    {
     "name": "stdout",
     "output_type": "stream",
     "text": [
      "Day:29\n",
      "Month:2\n",
      "Year:1900\n",
      "Date is not valid.\n"
     ]
    }
   ],
   "source": [
    "def invalid():\n",
    "    print(\"Date is not valid.\")\n",
    "def month(m):\n",
    "    if m==1:\n",
    "        return \"January\"\n",
    "    elif m==2:\n",
    "        return \"February\"\n",
    "    elif m==3:\n",
    "        return \"March\"\n",
    "    elif m==4:\n",
    "        return \"April\"\n",
    "    elif m==5:\n",
    "        return \"May\"\n",
    "    elif m==6:\n",
    "        return \"June\"\n",
    "    elif m==7:\n",
    "        return \"July\"\n",
    "    elif m==8:\n",
    "        return \"August\"\n",
    "    elif m==9:\n",
    "        return \"September\"\n",
    "    elif m==10:\n",
    "        return \"October\"\n",
    "    elif m==11:\n",
    "        return \"November\"\n",
    "    else:\n",
    "        return \"December\"\n",
    "def day(d):\n",
    "    if (d!=11 and d%10==1):\n",
    "        return \"st\"\n",
    "    elif (d!=12 and d%10==2):\n",
    "        return \"nd\"\n",
    "    elif (d!=13 and d%10==3):\n",
    "        return\"rd\"\n",
    "    else:\n",
    "        return \"th\"\n",
    "    \n",
    "try:\n",
    "    d = int(input(\"Day:\"))\n",
    "    m = int(input(\"Month:\"))\n",
    "    y = int(input(\"Year:\"))\n",
    "except:\n",
    "    invalid()\n",
    "\n",
    "if (d>31 or d<1 or m>12 or m<1):\n",
    "    invalid()\n",
    "    \n",
    "elif (y%4==0):\n",
    "    if (y%400 != 0):\n",
    "        if (m==2 and d>28):\n",
    "            invalid()\n",
    "        elif (m==4 or m==6 or m==9 or m==11):\n",
    "            if (d>30):\n",
    "                invalid()\n",
    "    elif (m==2 and d>29):\n",
    "        invalid()\n",
    "    elif (m==4 or m==6 or m==9 or m==11):\n",
    "        if (d>30):\n",
    "            invalid()\n",
    "    else: \n",
    "        print(\"It is the \", d, day(d), \" day of the month of \", month(m), \" of the year \", y, sep=\"\")\n",
    "else:\n",
    "    if (m==2 and d>28):\n",
    "        invalid()\n",
    "    elif (m==4 or m==6 or m==9 or m==11):\n",
    "        if (d>30):\n",
    "            invalid()\n",
    "    else:\n",
    "        print(\"It is the \", d, day(d), \" day of the month of \", month(m), \" of the year \", y, sep=\"\")\n",
    "        \n"
   ]
  },
  {
   "cell_type": "markdown",
   "metadata": {},
   "source": [
    "# 3. Followers (15 pts)"
   ]
  },
  {
   "cell_type": "code",
   "execution_count": 28,
   "metadata": {},
   "outputs": [
    {
     "name": "stdout",
     "output_type": "stream",
     "text": [
      "True\n",
      "False\n"
     ]
    }
   ],
   "source": [
    "def obedient(num):\n",
    "    \n",
    "    is_obedient = False\n",
    "    for i in range(num):\n",
    "        if (i+(i+1)+(i+2) == num):\n",
    "            is_obedient = True\n",
    "        else:\n",
    "            continue\n",
    "            \n",
    "    if (is_obedient == True):\n",
    "        return True\n",
    "    else:\n",
    "        return False\n",
    "            \n",
    "print(obedient(123))\n",
    "print(obedient(100))"
   ]
  },
  {
   "cell_type": "markdown",
   "metadata": {},
   "source": [
    "# 4. Go Forth and Multiply (15 pts)"
   ]
  },
  {
   "cell_type": "code",
   "execution_count": 2,
   "metadata": {},
   "outputs": [
    {
     "name": "stdout",
     "output_type": "stream",
     "text": [
      "1\t2\t3\t4\t5\t6\t7\t8\t9\t10\t\n",
      "2\t4\t6\t8\t10\t12\t14\t16\t18\t20\t\n",
      "3\t6\t9\t12\t15\t18\t21\t24\t27\t30\t\n",
      "4\t8\t12\t16\t20\t24\t28\t32\t36\t40\t\n",
      "5\t10\t15\t20\t25\t30\t35\t40\t45\t50\t\n",
      "6\t12\t18\t24\t30\t36\t42\t48\t54\t60\t\n",
      "7\t14\t21\t28\t35\t42\t49\t56\t63\t70\t\n",
      "8\t16\t24\t32\t40\t48\t56\t64\t72\t80\t\n",
      "9\t18\t27\t36\t45\t54\t63\t72\t81\t90\t\n",
      "10\t20\t30\t40\t50\t60\t70\t80\t90\t100\t\n"
     ]
    }
   ],
   "source": [
    "def multtable(size):\n",
    "    \n",
    "    for i in range(1, size+1):\n",
    "        for j in range(1, size+1):\n",
    "            print(i*j, end=\"\\t\")\n",
    "        print()\n",
    "        \n",
    "multtable(10)"
   ]
  },
  {
   "cell_type": "markdown",
   "metadata": {},
   "source": [
    "# 5. Avatar (25 pts)"
   ]
  },
  {
   "cell_type": "code",
   "execution_count": 6,
   "metadata": {},
   "outputs": [
    {
     "name": "stdout",
     "output_type": "stream",
     "text": [
      "Do you prefer (a) the mountains, (b) the city, or (c) the beach? a\n",
      "Do you prefer (a) yoghurt, (b) ice cream, or (c) gelato? c\n",
      "Do you prefer (a) reading, (b) singing, or (c) writing? a\n",
      "Do you prefer (a) sweet, (b) salty, or (c) spicy food? b\n",
      "Do you prefer (a) cats, (b) dogs, or (c) fish? a\n",
      "Your element is Fire\n"
     ]
    }
   ],
   "source": [
    "def invalid_choice(q):\n",
    "    if (q==\"a\" or q==\"b\" or q==\"c\"):\n",
    "        return False\n",
    "    else:\n",
    "        print(\"Sorry, you inputted a wrong letter. Please start again.\")  \n",
    "        return True\n",
    "    \n",
    "while True:\n",
    "    q1 = input(\"Do you prefer (a) the mountains, (b) the city, or (c) the beach? \")\n",
    "    if invalid_choice(q1) == True:\n",
    "        continue\n",
    "    q2 = input(\"Do you prefer (a) yoghurt, (b) ice cream, or (c) gelato? \")\n",
    "    if invalid_choice(q2) == True:\n",
    "        continue\n",
    "    q3 = input(\"Do you prefer (a) reading, (b) singing, or (c) writing? \")\n",
    "    if invalid_choice(q3) == True:\n",
    "        continue\n",
    "    q4 = input(\"Do you prefer (a) sweet, (b) salty, or (c) spicy food? \")\n",
    "    if invalid_choice(q4) == True:\n",
    "        continue\n",
    "    q5 = input(\"Do you prefer (a) cats, (b) dogs, or (c) fish? \")\n",
    "    if invalid_choice(q5) == True:\n",
    "        continue\n",
    "    break\n",
    "\n",
    "fire = 0\n",
    "water = 0\n",
    "earth = 0\n",
    "\n",
    "#Q1\n",
    "if q1=='a':\n",
    "    fire+=1\n",
    "elif q1=='b':\n",
    "    earth+=1\n",
    "else:\n",
    "    water+=1\n",
    "\n",
    "#Q2\n",
    "if q2=='a':\n",
    "    earth+=1\n",
    "elif q2=='b':\n",
    "    water+=1\n",
    "else:\n",
    "    fire+=1\n",
    "    \n",
    "#Q3\n",
    "if q3=='a':\n",
    "    water+=1\n",
    "elif q3=='b':\n",
    "    fire+=1\n",
    "else:\n",
    "    earth+=1\n",
    "    \n",
    "#Q4\n",
    "if q4=='a':\n",
    "    earth+=1\n",
    "elif q4=='b':\n",
    "    water+=1\n",
    "else:\n",
    "    fire+=1\n",
    "\n",
    "#Q5\n",
    "if q5=='a':\n",
    "    earth+=1\n",
    "elif q5=='b':\n",
    "    fire+=1\n",
    "else:\n",
    "    water+=1\n",
    "    \n",
    "if (earth>fire and earth>water):\n",
    "    print(\"Your element is Earth\")\n",
    "elif (fire>earth and fire>water):\n",
    "    print(\"Your element is Fire\")\n",
    "elif (water>fire and water>earth):\n",
    "    print(\"Your element is Water\")\n",
    "elif (fire==earth):\n",
    "    print(\"Your element is Earth\")\n",
    "elif (fire==water):\n",
    "    print(\"Your element is Fire\")\n",
    "elif (earth==water):\n",
    "    print(\"Your element is Water\")\n",
    "    "
   ]
  }
 ],
 "metadata": {
  "kernelspec": {
   "display_name": "Python 3",
   "language": "python",
   "name": "python3"
  },
  "language_info": {
   "codemirror_mode": {
    "name": "ipython",
    "version": 3
   },
   "file_extension": ".py",
   "mimetype": "text/x-python",
   "name": "python",
   "nbconvert_exporter": "python",
   "pygments_lexer": "ipython3",
   "version": "3.7.6"
  }
 },
 "nbformat": 4,
 "nbformat_minor": 4
}

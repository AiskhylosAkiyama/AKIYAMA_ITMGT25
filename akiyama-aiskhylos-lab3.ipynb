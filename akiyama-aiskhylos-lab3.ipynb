{
 "cells": [
  {
   "cell_type": "markdown",
   "metadata": {},
   "source": [
    "**190120 AKIYAMA 2 BS ME**"
   ]
  },
  {
   "cell_type": "markdown",
   "metadata": {},
   "source": [
    "## Problem 1. Social Media Example"
   ]
  },
  {
   "cell_type": "code",
   "execution_count": 1,
   "metadata": {},
   "outputs": [
    {
     "name": "stdout",
     "output_type": "stream",
     "text": [
      "followed by\n",
      "friends\n",
      "followed by\n",
      "None\n",
      "followed by\n",
      "friends\n"
     ]
    }
   ],
   "source": [
    "def relationship_status(from_member, to_member):\n",
    "    \n",
    "    for i in social_graph[from_member][\"following\"]:\n",
    "        if i == to_member:\n",
    "            for j in social_graph[to_member][\"following\"]:\n",
    "                if j == from_member:\n",
    "                    return \"friends\"\n",
    "            return \"follows\"\n",
    "                \n",
    "    for i in social_graph[to_member][\"following\"]:\n",
    "        if i == from_member:\n",
    "            return \"followed by\"\n",
    "        else:\n",
    "            continue\n",
    "    \n",
    "    \n",
    "social_graph = {\n",
    "    \"@bongolpoc\":{\"first_name\":\"Joselito\",\n",
    "                  \"last_name\":\"Olpoc\",\n",
    "                  \"following\":[\n",
    "                  ]\n",
    "    },\n",
    "    \"@joaquin\":  {\"first_name\":\"Joaquin\",\n",
    "                  \"last_name\":\"Gonzales\",\n",
    "                  \"following\":[\n",
    "                      \"@chums\",\"@jobenilagan\"\n",
    "                  ]\n",
    "    },\n",
    "    \"@chums\" : {\"first_name\":\"Matthew\",\n",
    "                \"last_name\":\"Uy\",\n",
    "                \"following\":[\n",
    "                    \"@bongolpoc\",\"@miketan\",\"@rudyang\",\"@joeilagan\"\n",
    "                ]\n",
    "    },\n",
    "    \"@jobenilagan\":{\"first_name\":\"Joben\",\n",
    "                   \"last_name\":\"Ilagan\",\n",
    "                   \"following\":[\n",
    "                    \"@eeebeee\",\"@joeilagan\",\"@chums\",\"@joaquin\"\n",
    "                   ]\n",
    "    },\n",
    "    \"@joeilagan\":{\"first_name\":\"Joe\",\n",
    "                  \"last_name\":\"Ilagan\",\n",
    "                  \"following\":[\n",
    "                    \"@eeebeee\",\"@jobenilagan\",\"@chums\"\n",
    "                  ]\n",
    "    },\n",
    "    \"@eeebeee\":  {\"first_name\":\"Elizabeth\",\n",
    "                  \"last_name\":\"Ilagan\",\n",
    "                  \"following\":[\n",
    "                    \"@jobenilagan\",\"@joeilagan\"\n",
    "                  ]\n",
    "    },\n",
    "}\n",
    "\n",
    "print(relationship_status(\"@chums\",\"@jobenilagan\"))\n",
    "print(relationship_status(\"@jobenilagan\",\"@joeilagan\"))\n",
    "print(relationship_status(\"@bongolpoc\",\"@chums\"))\n",
    "print(relationship_status(\"@bongolpoc\",\"@jobenilagan\"))\n",
    "print(relationship_status(\"@bongolpoc\",\"@chums\"))\n",
    "print(relationship_status(\"@chums\",\"@joeilagan\"))"
   ]
  },
  {
   "cell_type": "markdown",
   "metadata": {},
   "source": [
    "## Problem 2"
   ]
  },
  {
   "cell_type": "code",
   "execution_count": 2,
   "metadata": {},
   "outputs": [
    {
     "name": "stdout",
     "output_type": "stream",
     "text": [
      "O\n"
     ]
    }
   ],
   "source": [
    "board1 = [\n",
    "['X','X','O'],\n",
    "['O','X','O'],\n",
    "['O','','X'],\n",
    "]\n",
    "\n",
    "board2 = [\n",
    "['X','X','O'],\n",
    "['O','X','O'],\n",
    "['','O','X'],\n",
    "]\n",
    "\n",
    "board3 = [\n",
    "['O','X','O'],\n",
    "['','O','X'],\n",
    "['X','X','O'],\n",
    "]\n",
    "\n",
    "board4 = [\n",
    "['X','X','X'],\n",
    "['O','X','O'],\n",
    "['O','','O'],\n",
    "]\n",
    "\n",
    "board5 = [\n",
    "['X','X','O'],\n",
    "['O','X','O'],\n",
    "['X','','O'],\n",
    "]\n",
    "\n",
    "board6 = [\n",
    "['X','X','O'],\n",
    "['O','X','O'],\n",
    "['X','',''],\n",
    "]\n",
    "\n",
    "\n",
    "\n",
    "\n",
    "def get_winner(board):\n",
    "    winner = None\n",
    "    \n",
    "    ## guides to your approach:\n",
    "    \n",
    "    ## check diagonals\n",
    "    \n",
    "    diagonal_updown = [board[i][i] for i,v in enumerate(board)]\n",
    "    if len(set(diagonal_updown))==1:\n",
    "        winner = (board[0][0])\n",
    "    diagonal_downup = [board[2-i][i] for i,v in enumerate(board)]\n",
    "    if len(set(diagonal_downup))==1:\n",
    "        winner = (board[2][0])\n",
    "    \n",
    "    ## check rows\n",
    "    \n",
    "    for i,v in enumerate(board):\n",
    "        row_set = {*v}\n",
    "        if len(row_set) == 1:\n",
    "            winner = v[0]\n",
    "    \n",
    "    ## check columns\n",
    "    \n",
    "    columns = [x for x in zip(*board)]\n",
    "    for i,v in enumerate(columns):\n",
    "        column_set = {*v}\n",
    "        if len(column_set) == 1:\n",
    "            winner = v[0]\n",
    "            \n",
    "    try:\n",
    "        print(winner)\n",
    "    except:\n",
    "        pass\n",
    "    \n",
    "    \n",
    "get_winner(board5)"
   ]
  },
  {
   "cell_type": "markdown",
   "metadata": {},
   "source": [
    "## Problem 3"
   ]
  },
  {
   "cell_type": "code",
   "execution_count": 8,
   "metadata": {},
   "outputs": [
    {
     "name": "stdout",
     "output_type": "stream",
     "text": [
      "Source: dlsu\n",
      "Destination: admu\n",
      "ETA: 65\n"
     ]
    }
   ],
   "source": [
    "locations = {\n",
    "    \"admu\":{\n",
    "        \"name\":\"Ateneo de Manila University\",\n",
    "        \"latitude\":14.6394557,\n",
    "        \"longitude\":121.0758975        \n",
    "    },\n",
    "    \"upd\":{\n",
    "        \"name\":\"University of the Philippines-Diliman Campus\",\n",
    "        \"latitude\":14.6538519,\n",
    "        \"longitude\":121.0663348\n",
    "    },\n",
    "    \"dlsu\":{\n",
    "        \"name\":\"De La Salle University-Taft\",\n",
    "        \"latitude\":14.5647346,\n",
    "        \"longitude\":120.9909876\n",
    "\n",
    "    }, # <-- Note that Python does not complain about this extra comma. This is perfectly okay.\n",
    "       #     The creators of Python saw that dictionaries tend to be changed a lot, so allowing this is a\n",
    "       #     convenience for developers who need to add elements when needed.\n",
    "}\n",
    "\n",
    "legs = {\n",
    "     (\"upd\",\"admu\"):{\n",
    "         \"travel_time_mins\":10\n",
    "     },\n",
    "     (\"admu\",\"dlsu\"):{\n",
    "         \"travel_time_mins\":35\n",
    "     },\n",
    "     (\"dlsu\",\"upd\"):{\n",
    "         \"travel_time_mins\":55\n",
    "     }\n",
    "}\n",
    "\n",
    "def eta(source,destination):\n",
    "    # write your code here\n",
    "    \n",
    "    keys = [*legs.keys()]\n",
    "    try:\n",
    "        time = 0\n",
    "        for index,key in enumerate(keys):\n",
    "            if key[0] == source:\n",
    "                i = index\n",
    "        while source != destination:\n",
    "            if i == len(legs):\n",
    "                i=0\n",
    "            if keys[i][0] == source:\n",
    "                source = keys[i][1]\n",
    "                time += legs[keys[i]][\"travel_time_mins\"]\n",
    "            i+=1\n",
    "        return time\n",
    "    except:\n",
    "        return \"Input not part of route.\"\n",
    "        \n",
    "source = str(input(\"Source: \"))\n",
    "destination = str(input(\"Destination: \"))\n",
    "\n",
    "print(\"ETA:\", eta(source, destination))\n"
   ]
  },
  {
   "cell_type": "code",
   "execution_count": null,
   "metadata": {},
   "outputs": [],
   "source": []
  }
 ],
 "metadata": {
  "kernelspec": {
   "display_name": "Python 3",
   "language": "python",
   "name": "python3"
  },
  "language_info": {
   "codemirror_mode": {
    "name": "ipython",
    "version": 3
   },
   "file_extension": ".py",
   "mimetype": "text/x-python",
   "name": "python",
   "nbconvert_exporter": "python",
   "pygments_lexer": "ipython3",
   "version": "3.7.6"
  }
 },
 "nbformat": 4,
 "nbformat_minor": 4
}

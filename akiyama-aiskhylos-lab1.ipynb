{
 "cells": [
  {
   "cell_type": "markdown",
   "metadata": {},
   "source": [
    "**190120**\n",
    "**Akiyama**\n",
    "**2 BS ME**"
   ]
  },
  {
   "cell_type": "code",
   "execution_count": 2,
   "metadata": {},
   "outputs": [
    {
     "name": "stdout",
     "output_type": "stream",
     "text": [
      "Enter the amount in Dollars: 12.04\n",
      "12.04 US Dollar(s) = 602.0 Philippine Pesos\n"
     ]
    }
   ],
   "source": [
    "def dollars_to_pesos(dollars):\n",
    "    return dollars*50\n",
    "\n",
    "dollars = float(input(\"Enter the amount in Dollars: \"))\n",
    "\n",
    "pesos = dollars_to_pesos(dollars)\n",
    "\n",
    "print(dollars, \"US Dollar(s) =\", pesos, \"Philippine Pesos\")\n"
   ]
  },
  {
   "cell_type": "code",
   "execution_count": 3,
   "metadata": {},
   "outputs": [
    {
     "name": "stdout",
     "output_type": "stream",
     "text": [
      "35\n",
      "6\n",
      "41\n",
      "29\n",
      "210\n",
      "5\n",
      "5\n"
     ]
    }
   ],
   "source": [
    "a = int(input())\n",
    "b = int(input())\n",
    "\n",
    "print(a+b)\n",
    "print(a-b)\n",
    "print(a*b)\n",
    "print(a//b)\n",
    "print(a%b)\n"
   ]
  },
  {
   "cell_type": "code",
   "execution_count": 21,
   "metadata": {},
   "outputs": [
    {
     "name": "stdout",
     "output_type": "stream",
     "text": [
      "Enter kg: 75\n",
      "Enter cm: 177\n",
      "BMI: 23.93948099205209\n"
     ]
    }
   ],
   "source": [
    "def convert_cm_to_m(cm):\n",
    "    return cm/100\n",
    "\n",
    "def compute_bmi(kg, m):\n",
    "    return kg/(m*m)\n",
    "\n",
    "kg = float(input(\"Enter kg: \"))\n",
    "cm = float(input(\"Enter cm: \"))\n",
    "\n",
    "m = convert_cm_to_m(cm)\n",
    "\n",
    "BMI = compute_bmi(kg, m)\n",
    "\n",
    "print(\"BMI:\", BMI)\n"
   ]
  },
  {
   "cell_type": "code",
   "execution_count": null,
   "metadata": {},
   "outputs": [],
   "source": []
  }
 ],
 "metadata": {
  "kernelspec": {
   "display_name": "Python 3",
   "language": "python",
   "name": "python3"
  },
  "language_info": {
   "codemirror_mode": {
    "name": "ipython",
    "version": 3
   },
   "file_extension": ".py",
   "mimetype": "text/x-python",
   "name": "python",
   "nbconvert_exporter": "python",
   "pygments_lexer": "ipython3",
   "version": "3.7.6"
  }
 },
 "nbformat": 4,
 "nbformat_minor": 4
}

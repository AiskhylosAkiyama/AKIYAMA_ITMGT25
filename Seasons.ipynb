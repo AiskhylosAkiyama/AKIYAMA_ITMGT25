{
 "cells": [
  {
   "cell_type": "code",
   "execution_count": 7,
   "metadata": {},
   "outputs": [
    {
     "name": "stdout",
     "output_type": "stream",
     "text": [
      "Month: December\n",
      "Day:1\n",
      "Fall\n"
     ]
    }
   ],
   "source": [
    "months = ['January', 'February', 'March', 'April', 'May', 'June',\n",
    "          'July', 'August', 'September', 'October', 'November', 'December']\n",
    "\n",
    "def seasons(month, day):\n",
    "    for i in range(12):\n",
    "        if month == months[i]:\n",
    "            m = i+1\n",
    "        else:\n",
    "            continue\n",
    "            \n",
    "    if (m==1 or m==2):\n",
    "        return 'Winter'\n",
    "    elif (m==4 or m==5):\n",
    "        return 'Spring'\n",
    "    elif (m==7 or m==8):\n",
    "        return 'Summer'\n",
    "    elif (m==10 or m==11):\n",
    "        return 'Fall'\n",
    "    elif (m==12):\n",
    "        if (day>=21):\n",
    "            return 'Winter'\n",
    "        else: \n",
    "            return 'Fall'\n",
    "    elif (m==3):\n",
    "        if (day>=20):\n",
    "            return 'Spring'\n",
    "        else:\n",
    "            return 'Winter'\n",
    "    elif (m==6):\n",
    "        if (day>=21):\n",
    "            return 'Summer'\n",
    "        else:\n",
    "            return 'Spring'\n",
    "    elif (m==9):\n",
    "        if (day>=22):\n",
    "            return 'Fall'\n",
    "        else:\n",
    "            return 'Summer'\n",
    "\n",
    " \n",
    "month = input(\"Month: \")\n",
    "day = int(input(\"Day:\"))\n",
    "\n",
    "print(seasons(month, day))"
   ]
  },
  {
   "cell_type": "code",
   "execution_count": null,
   "metadata": {},
   "outputs": [],
   "source": []
  }
 ],
 "metadata": {
  "kernelspec": {
   "display_name": "Python 3",
   "language": "python",
   "name": "python3"
  },
  "language_info": {
   "codemirror_mode": {
    "name": "ipython",
    "version": 3
   },
   "file_extension": ".py",
   "mimetype": "text/x-python",
   "name": "python",
   "nbconvert_exporter": "python",
   "pygments_lexer": "ipython3",
   "version": "3.7.6"
  }
 },
 "nbformat": 4,
 "nbformat_minor": 4
}

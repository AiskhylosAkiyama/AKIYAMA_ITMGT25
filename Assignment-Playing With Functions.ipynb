{
 "cells": [
  {
   "cell_type": "markdown",
   "metadata": {},
   "source": [
    "## Playing With Functions"
   ]
  },
  {
   "cell_type": "markdown",
   "metadata": {},
   "source": [
    "These exercises are designed to strengthen your grasp on basic programming concepts. Read what is required of you carefully. For example, instructions to **return** values are not the same as those of **printing**.\n",
    "\n",
    "Make sure that cells are in **script mode** (not **interactive mode**).\n"
   ]
  },
  {
   "cell_type": "markdown",
   "metadata": {},
   "source": [
    "# 1\n",
    "### 1 point\n",
    "\n",
    "Write a function that takes the circumference of a circle as a parameter and **returns** the area of that circle.\n",
    "\n",
    "Note: Assume the value of pi is 3.1416"
   ]
  },
  {
   "cell_type": "code",
   "execution_count": 46,
   "metadata": {
    "scrolled": true
   },
   "outputs": [
    {
     "name": "stdout",
     "output_type": "stream",
     "text": [
      "3.1416\n"
     ]
    }
   ],
   "source": [
    "def circle_area(circumference):\n",
    "    PI = 3.1416\n",
    "    radius = circumference/(2*PI)\n",
    "    area = radius**2*PI\n",
    "    return area\n",
    "\n",
    "\n",
    "print(circle_area(3.1416*2))"
   ]
  },
  {
   "cell_type": "markdown",
   "metadata": {},
   "source": [
    "# 2\n",
    "### 2 points\n",
    "\n",
    "Write a function that takes a 5-character string as a parameter and **returns** the string in reverse order.\n",
    "\n",
    "e.g. reverseString(\"Hello\") -> \"olleH\""
   ]
  },
  {
   "cell_type": "code",
   "execution_count": 86,
   "metadata": {},
   "outputs": [
    {
     "name": "stdout",
     "output_type": "stream",
     "text": [
      "olleH\n"
     ]
    }
   ],
   "source": [
    "def reverseString(word):\n",
    "    return(word[4::-1])\n",
    "\n",
    "print(reverseString(\"Hello\"))"
   ]
  },
  {
   "cell_type": "markdown",
   "metadata": {},
   "source": [
    "# 3\n",
    "### 2 points\n",
    "\n",
    "Write a function that takes a positive integer as input and **returns** the sum of all positive integers smaller than and including the number itself.\n",
    "\n",
    "e.g. backAddition(5) -> 1 + 2 + 3 + 4 + 5 -> 15"
   ]
  },
  {
   "cell_type": "code",
   "execution_count": 70,
   "metadata": {},
   "outputs": [
    {
     "name": "stdout",
     "output_type": "stream",
     "text": [
      "55\n"
     ]
    }
   ],
   "source": [
    "def backAddition(posInt):\n",
    "    n = int(posInt)\n",
    "    sum = 0\n",
    "    i = 1\n",
    "    while i <= n:\n",
    "        sum = sum + i\n",
    "        i += 1\n",
    "    return sum\n",
    "\n",
    "        \n",
    "print(backAddition(10))"
   ]
  },
  {
   "cell_type": "markdown",
   "metadata": {},
   "source": [
    "# 4\n",
    "### 5 points (all or nothing)\n",
    "\n",
    "The sum of the squares of the first ten natural numbers is,\n",
    "12 + 22 + ... + 102 = 385\n",
    "\n",
    "The square of the sum of the first ten natural numbers is,\n",
    "(1 + 2 + ... + 10)2 = 552 = 3025\n",
    "\n",
    "Hence the difference between the sum of the squares of the first ten natural numbers and the square of the sum is 3025 − 385 = 2640.\n",
    "\n",
    "Find the difference between the sum of the squares of the first one hundred natural numbers and the square of the sum.\n",
    "\n",
    "Show code that generates the answer."
   ]
  },
  {
   "cell_type": "code",
   "execution_count": 34,
   "metadata": {},
   "outputs": [
    {
     "data": {
      "text/plain": [
       "25164150"
      ]
     },
     "execution_count": 34,
     "metadata": {},
     "output_type": "execute_result"
    }
   ],
   "source": [
    "def diff_squareOfSum_sumOfSquares(n):\n",
    "    \n",
    "    sum = 0\n",
    "    i = 1\n",
    "    while i <= n:\n",
    "        sum = sum + i\n",
    "        i += 1\n",
    "    squareOfSum = sum**2\n",
    "    \n",
    "    i = 1\n",
    "    sumOfSquares = 0\n",
    "    while i <= n:\n",
    "        square = i**2\n",
    "        sumOfSquares = sumOfSquares + square\n",
    "        i += 1\n",
    "        \n",
    "    diff = squareOfSum - sumOfSquares\n",
    "    \n",
    "    return diff\n",
    "\n",
    "print(diff_squareOfSum_sumOfSquares(100))"
   ]
  },
  {
   "cell_type": "markdown",
   "metadata": {},
   "source": [
    "# 5\n",
    "### 5 points \n",
    "\n",
    "Write a function that allows a self-service Point of Sale system to give you the exact change when you pay in cash.\n",
    "\n",
    "The function should accept the number of cents entered by the caller of the function. It then should **display** the denominations of the coins that should be given to the buyer. The change should use as few coins as possible. Assume that the Point of Sale system is loaded with 1 cent, 5 cents, 25 cents and 1 peso coins.\n",
    "\n",
    "Write main program code that accepts the number of cents manually through user input and calls the function written above.\n",
    "\n",
    "**Input:** The program accepts one positive integer, ***cents***, corresponding to the total change to be given by the Point of Sale system.\n",
    "\n",
    "**Output:** The number of 1 peso, 50 cents, 25 cents and 1 cent coins respectively. There should be one output per line.\n",
    "\n",
    "**Sample Input 1:**  \n",
    "105\n",
    "\n",
    "**Sample Output 1**  \n",
    "1  \n",
    "0  \n",
    "0  \n",
    "1  \n",
    "0  \n",
    "\n",
    "**Sample Input 2:**  \n",
    "69  \n",
    "\n",
    "**Sample Output 2:**  \n",
    "0  \n",
    "2  \n",
    "1  \n",
    "1  \n",
    "4  \n",
    "\n",
    "\n"
   ]
  },
  {
   "cell_type": "code",
   "execution_count": 89,
   "metadata": {},
   "outputs": [
    {
     "name": "stdout",
     "output_type": "stream",
     "text": [
      "Change in cents: 69\n",
      "0\n",
      "2\n",
      "1\n",
      "1\n",
      "4\n"
     ]
    }
   ],
   "source": [
    "def exact_change(change):\n",
    "    onePeso = 0\n",
    "    twentyFiveCents = 0\n",
    "    tenCents = 0\n",
    "    fiveCents = 0\n",
    "    oneCent = 0\n",
    "    while change > 0:\n",
    "        if change >= 100:\n",
    "            onePeso += 1\n",
    "            change = change-100\n",
    "            continue\n",
    "        elif change >= 25:\n",
    "            twentyFiveCents += 1\n",
    "            change = change-25\n",
    "            continue\n",
    "        elif change >= 10:\n",
    "            tenCents += 1\n",
    "            change = change-10\n",
    "            continue\n",
    "        elif change >= 5:\n",
    "            fiveCents += 1\n",
    "            change = change-5\n",
    "            continue\n",
    "        else:\n",
    "            oneCent += 1\n",
    "            change = change-1\n",
    "    print(onePeso)\n",
    "    print(twentyFiveCents)\n",
    "    print(tenCents)    \n",
    "    print(fiveCents)\n",
    "    print(oneCent)\n",
    "\n",
    "change = int(input(\"Change in cents: \"))\n",
    "\n",
    "exact_change(change)"
   ]
  },
  {
   "cell_type": "code",
   "execution_count": null,
   "metadata": {},
   "outputs": [],
   "source": []
  }
 ],
 "metadata": {
  "kernelspec": {
   "display_name": "Python 3",
   "language": "python",
   "name": "python3"
  },
  "language_info": {
   "codemirror_mode": {
    "name": "ipython",
    "version": 3
   },
   "file_extension": ".py",
   "mimetype": "text/x-python",
   "name": "python",
   "nbconvert_exporter": "python",
   "pygments_lexer": "ipython3",
   "version": "3.7.6"
  }
 },
 "nbformat": 4,
 "nbformat_minor": 2
}

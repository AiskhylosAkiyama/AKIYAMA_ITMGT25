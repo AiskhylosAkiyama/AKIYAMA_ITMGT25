{
 "cells": [
  {
   "cell_type": "markdown",
   "metadata": {},
   "source": [
    "**190120**\n",
    "**Akiyama**\n",
    "**2 BS ME**"
   ]
  },
  {
   "cell_type": "code",
   "execution_count": 7,
   "metadata": {},
   "outputs": [],
   "source": [
    "def three_number_average(n1, n2, n3):\n",
    "    return float((n1+n2+n3)/3)"
   ]
  },
  {
   "cell_type": "code",
   "execution_count": 11,
   "metadata": {},
   "outputs": [
    {
     "name": "stdout",
     "output_type": "stream",
     "text": [
      "Enter first number: 27\n",
      "Enter second number: 80\n",
      "Enter third number: 100\n",
      "The average is 69.0\n"
     ]
    }
   ],
   "source": [
    "n1 = int(input(\"Enter first number: \"))\n",
    "\n",
    "n2 = int(input(\"Enter second number: \"))\n",
    "\n",
    "n3 = int(input(\"Enter third number: \"))\n",
    "\n",
    "average = three_number_average(n1, n2, n3)\n",
    "\n",
    "print(\"The average is\", average)"
   ]
  },
  {
   "cell_type": "code",
   "execution_count": null,
   "metadata": {},
   "outputs": [],
   "source": []
  }
 ],
 "metadata": {
  "kernelspec": {
   "display_name": "Python 3",
   "language": "python",
   "name": "python3"
  },
  "language_info": {
   "codemirror_mode": {
    "name": "ipython",
    "version": 3
   },
   "file_extension": ".py",
   "mimetype": "text/x-python",
   "name": "python",
   "nbconvert_exporter": "python",
   "pygments_lexer": "ipython3",
   "version": "3.7.6"
  }
 },
 "nbformat": 4,
 "nbformat_minor": 4
}

{
 "cells": [
  {
   "cell_type": "markdown",
   "metadata": {},
   "source": [
    "## CoffeePython POS Terminal"
   ]
  },
  {
   "cell_type": "markdown",
   "metadata": {},
   "source": [
    "Version 2.0\n",
    "\n",
    "CoffeePython is specialty coffee place along Katipunan. It commissioned students to build a crude character-mode terminal based on Python and it ran pretty well.\n",
    "\n",
    "Due to the Covid-19 Pandemic that forced businesses to shut down, however, it had to pivot its business to online deliveries. The direction, however, is to make sure that the current Point-of-Sale (POS) system being used in the branches still work. There are some missing pieces that need to be reprogrammed again.\n",
    "\n",
    "CoffeePython has the following products:\n",
    "\n",
    "\n",
    "| Code          | Product Name  |  Price |\n",
    "|---------------|---------------|--------|\n",
    "| americano     | Americano     | 150.00 |\n",
    "| brewedcoffee  | Brewed Coffee | 110.00 |\n",
    "| cappuccino    | Cappuccino    | 170.00 |\n",
    "| dalgona       | Dalgona       | 120.00 |\n",
    "| espresso      | Espresso      | 140.00 |\n",
    "| frappuccino   | Frappuccino   | 170.00 |\n",
    "\n"
   ]
  },
  {
   "cell_type": "markdown",
   "metadata": {},
   "source": [
    "A Python dictionary containing the product information has already been created by the previous programmers:"
   ]
  },
  {
   "cell_type": "code",
   "execution_count": 1,
   "metadata": {},
   "outputs": [],
   "source": [
    "products = {\n",
    "    \"americano\":{\"name\":\"Americano\",\"price\":150.00},\n",
    "    \"brewedcoffee\":{\"name\":\"Brewed Coffee\",\"price\":110.00},\n",
    "    \"cappuccino\":{\"name\":\"Cappuccino\",\"price\":170.00},\n",
    "    \"dalgona\":{\"name\":\"Dalgona\",\"price\":170.00},\n",
    "    \"espresso\":{\"name\":\"Espresso\",\"price\":140.00},\n",
    "    \"frappuccino\":{\"name\":\"Frappuccino\",\"price\":170.00},\n",
    "}"
   ]
  },
  {
   "cell_type": "markdown",
   "metadata": {},
   "source": [
    "### 1. product information lookup function (3 points)\n",
    "\n",
    "Write a function ```get_product(code)``` where code is the key of the product information in the products dictionary. The function should return the dictionary containing the specific product information.\n",
    "For example:\n",
    "\n",
    "\n",
    "**```get_product(\"espresso\")```**\n",
    "\n",
    "should yield\n",
    "\n",
    "**```{\"name\":\"Espresso\",\"price\":140.00}```**\n"
   ]
  },
  {
   "cell_type": "code",
   "execution_count": 2,
   "metadata": {},
   "outputs": [
    {
     "data": {
      "text/plain": [
       "{'name': 'Espresso', 'price': 140.0}"
      ]
     },
     "execution_count": 2,
     "metadata": {},
     "output_type": "execute_result"
    }
   ],
   "source": [
    "## Answer\n",
    "\n",
    "def get_product(code):\n",
    "    return products[code]\n",
    "\n",
    "get_product(\"espresso\")\n",
    "\n"
   ]
  },
  {
   "cell_type": "markdown",
   "metadata": {},
   "source": [
    "### 2. retrieve product attributes (2 points)\n",
    "a. Write one line of code that calls ```get_product(code)``` and returns the price of that product."
   ]
  },
  {
   "cell_type": "code",
   "execution_count": 3,
   "metadata": {},
   "outputs": [],
   "source": [
    "## Answer: (sample output has already been provided below)\n",
    "\n",
    "\n",
    "#get_product(\"espresso\")[\"price\"]\n"
   ]
  },
  {
   "cell_type": "markdown",
   "metadata": {},
   "source": [
    "b. Write one line of code that calls ```get_product(code)``` and returns the name of that product.\n",
    "\n",
    "You may include your one line of code inside a function. The function definition and the return statements are excluded from the count."
   ]
  },
  {
   "cell_type": "code",
   "execution_count": 4,
   "metadata": {},
   "outputs": [],
   "source": [
    "## Answer:\n",
    "\n",
    "## write your answer here (sample output has already been provided below)\n",
    "\n",
    "\n",
    "# get_product(\"espresso\")[\"name\"]\n",
    "\n",
    "## i don't think my answers for these should count"
   ]
  },
  {
   "cell_type": "markdown",
   "metadata": {},
   "source": [
    "### 2. Point-of-Sale Terminal  (5 points)\n",
    "\n",
    "Write a function ```main``` that asks for orders of food from a customer. The system should ask for the following:\n",
    "* Product Code (assume that the clerk has memorized the product codes)\n",
    "* Quantity\n",
    "\n",
    "The system then must update an electronic **food tray** (which is just a fancy term for a list of items ordered). Implement the food tray as a list of ordered items, each of which is a *dictionary* containing the following key-value pairs: \n",
    "\n",
    "* product_code, \n",
    "* quantity\n",
    "* subtotal *(which is just the quantity multiplied by the price of the product)*\n",
    "\n",
    "Design your program such that **food_tray** is a variable of the **main** function for now. We will deal with better software design later on. In any case, if any of your functions need to work on the food_tray, pass it as a parameter.\n",
    "\n",
    "The system must compute the subtotal before appending to the food tray.\n",
    "\n",
    "The system must be able to determine if the customer is done with his/her order. Once done, the system notifies the clerk/user of the grand total. \n",
    "\n",
    "The system then prints out the receipt (for now, just show it appear in the notebook), after which it is ready to process the next customer order. Make sure to clear out the food_tray after each successful order.\n",
    "\n",
    "**Bonus (2 points):**\n",
    "Format the receipt output using various print formatting options. You will have to do research on this."
   ]
  },
  {
   "cell_type": "code",
   "execution_count": 5,
   "metadata": {},
   "outputs": [],
   "source": [
    "def add_to_tray(food_tray, ordered_item):\n",
    "    ## write your code here\n",
    "    food_tray.append(ordered_item)\n",
    "    return food_tray    \n",
    "    \n",
    "    "
   ]
  },
  {
   "cell_type": "code",
   "execution_count": 6,
   "metadata": {},
   "outputs": [],
   "source": [
    "def generate_receipt(food_tray):\n",
    "    ## write your code here\n",
    "    \n",
    "    # completely useless block that embelishes the receipt    \n",
    "    print(\"-\"*65)    \n",
    "    coffee_python = \"CoffeePython 2.0\" \n",
    "    address1 = \"123 Katipunan Avenue\"\n",
    "    address2 = \"Loyola Heights, Quezon City, Manila\"\n",
    "    contact = \"Fax# 561-3848\"\n",
    "    print(coffee_python.center(65))\n",
    "    print(address1.center(65))\n",
    "    print(address2.center(65))\n",
    "    print(contact.center(65))\n",
    "    print(\"Employee #190120: Aiskhylos Akiyama\")\n",
    "    \n",
    "    \n",
    "    #actual receipt\n",
    "    total = 0\n",
    "    print(\"-\"*65)\n",
    "    print(\"ITEM CODE\".ljust(15) + \"ITEM DESC\".ljust(25) + \"QTY\".ljust(5) + \"UNIT PRICE\".ljust(12) + \"SUBTOTAL\".rjust(8))\n",
    "    for i in food_tray:\n",
    "        total += i[\"subtotal\"]    \n",
    "        print(i[\"product_code\"].ljust(15), end = \"\")\n",
    "        print(get_product(i[\"product_code\"])[\"name\"].ljust(25), end = \"\")\n",
    "        print(str(i[\"quantity\"]).ljust(5), end=\"\")\n",
    "        print(str(get_product(i[\"product_code\"])[\"price\"]).ljust(12), end = \"\")\n",
    "        print(str(i[\"subtotal\"]).rjust(8), end=\"\")\n",
    "        print()\n",
    "    print()\n",
    "    print(\"Total:\" + str(total).rjust(59))\n",
    "    print(\"-\"*65)\n",
    "    \n",
    "        \n",
    "    \n",
    "    ## it is expected you will use print instead of returning a value\n",
    "    ## hint: use accumulator pattern and loop through the items in the food tray\n",
    "    ## hint: you will have to look up the product name from the products dictionary to make the receipt\n",
    "    ## more presentable  "
   ]
  },
  {
   "cell_type": "markdown",
   "metadata": {},
   "source": [
    "**Hint:** The ```ordered_item``` dictionary inside ```main()``` has at least three keys: ```code```, ```qty```, and ```subtotal```. You know how to get ```code``` and ```qty``` as these come from variables storing entered values from ```input(\"...\")```. To compute ```subtotal``` you need to get the price of the product (using ```code```) somewhere. Your answer in 2a. will help you.\n",
    "\n",
    "This new ```ordered_item``` dictionary will then need to be added to the ```food_tray``` list in a later step. We can add dictionaries to lists, right? Call the function ```add_to_tray(food_tray, ordered_item)``` to do this.\n",
    "\n",
    "The variable ```food_tray``` is a **list** of **dictionaries**. The ```ordered_item``` variable is a **dictionary**."
   ]
  },
  {
   "cell_type": "code",
   "execution_count": 7,
   "metadata": {},
   "outputs": [],
   "source": [
    "def main():\n",
    "    \n",
    "    food_tray = []\n",
    "    command = \"N\"\n",
    "    while(True):\n",
    "        command = input(\"Options: N-New customer, Q-Quit \")\n",
    "        if(command.upper()==\"Q\"):\n",
    "            break\n",
    "        else:\n",
    "            more = \"Y\"\n",
    "            while(more==\"Y\"):\n",
    "                code = input(\"Enter Product Code: \")\n",
    "                qty = int(input(\"Enter Quantity: \"))\n",
    "                print(code + \": \"+str(qty))\n",
    "                ## add code here\n",
    "                ordered_item = dict()\n",
    "                ordered_item[\"product_code\"] = code\n",
    "                ordered_item[\"quantity\"] = qty\n",
    "                ## compute subtotal and add to the ordered_item dictionary\n",
    "                ordered_item[\"subtotal\"] = int(qty) * get_product(code)[\"price\"]\n",
    "                \n",
    "                ## add to food_tray\n",
    "                add_to_tray(food_tray,ordered_item)\n",
    "\n",
    "                more = input(\"Add more items? (Y/N): \").upper()\n",
    "                \n",
    "        # print(food_tray) # replace with an on-screen receipt\n",
    "        generate_receipt(food_tray)\n",
    "        food_tray = [] # clear out food tray\n",
    "        \n",
    "        \n",
    "    print(\"Exiting CoffeePython POS Terminal. Have a great day.\")"
   ]
  },
  {
   "cell_type": "code",
   "execution_count": 8,
   "metadata": {},
   "outputs": [
    {
     "name": "stdout",
     "output_type": "stream",
     "text": [
      "Options: N-New customer, Q-Quit N\n",
      "Enter Product Code: dalgona\n",
      "Enter Quantity: 3\n",
      "dalgona: 3\n",
      "Add more items? (Y/N): y\n",
      "Enter Product Code: cappuccino\n",
      "Enter Quantity: 2\n",
      "cappuccino: 2\n",
      "Add more items? (Y/N): y\n",
      "Enter Product Code: frappuccino\n",
      "Enter Quantity: 6\n",
      "frappuccino: 6\n",
      "Add more items? (Y/N): y\n",
      "Enter Product Code: brewedcoffee\n",
      "Enter Quantity: 5\n",
      "brewedcoffee: 5\n",
      "Add more items? (Y/N): n\n",
      "-----------------------------------------------------------------\n",
      "                         CoffeePython 2.0                        \n",
      "                       123 Katipunan Avenue                      \n",
      "               Loyola Heights, Quezon City, Manila               \n",
      "                          Fax# 561-3848                          \n",
      "Employee #190120: Aiskhylos Akiyama\n",
      "-----------------------------------------------------------------\n",
      "ITEM CODE      ITEM DESC                QTY  UNIT PRICE  SUBTOTAL\n",
      "dalgona        Dalgona                  3    170.0          510.0\n",
      "cappuccino     Cappuccino               2    170.0          340.0\n",
      "frappuccino    Frappuccino              6    170.0         1020.0\n",
      "brewedcoffee   Brewed Coffee            5    110.0          550.0\n",
      "\n",
      "Total:                                                     2420.0\n",
      "-----------------------------------------------------------------\n",
      "Options: N-New customer, Q-Quit q\n",
      "Exiting CoffeePython POS Terminal. Have a great day.\n"
     ]
    }
   ],
   "source": [
    "main()"
   ]
  },
  {
   "cell_type": "code",
   "execution_count": null,
   "metadata": {},
   "outputs": [],
   "source": []
  }
 ],
 "metadata": {
  "kernelspec": {
   "display_name": "Python 3",
   "language": "python",
   "name": "python3"
  },
  "language_info": {
   "codemirror_mode": {
    "name": "ipython",
    "version": 3
   },
   "file_extension": ".py",
   "mimetype": "text/x-python",
   "name": "python",
   "nbconvert_exporter": "python",
   "pygments_lexer": "ipython3",
   "version": "3.7.6"
  }
 },
 "nbformat": 4,
 "nbformat_minor": 2
}
